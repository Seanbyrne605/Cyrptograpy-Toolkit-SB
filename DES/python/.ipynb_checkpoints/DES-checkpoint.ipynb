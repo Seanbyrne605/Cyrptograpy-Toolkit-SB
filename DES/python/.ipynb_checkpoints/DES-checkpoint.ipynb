{
 "cells": [
  {
   "cell_type": "code",
   "execution_count": 2,
   "id": "5f59b02a",
   "metadata": {},
   "outputs": [
    {
     "name": "stdout",
     "output_type": "stream",
     "text": [
      "Requirement already satisfied: pycryptodome in c:\\users\\sean\\anaconda3\\lib\\site-packages (3.19.0)\n"
     ]
    }
   ],
   "source": [
    "!pip install pycryptodome\n"
   ]
  },
  {
   "cell_type": "code",
   "execution_count": 3,
   "id": "ca04f246",
   "metadata": {},
   "outputs": [
    {
     "name": "stdout",
     "output_type": "stream",
     "text": [
      "The encrypted and decrypted files have been created successfully.\n"
     ]
    }
   ],
   "source": [
    "from Crypto.Cipher import DES\n",
    "from Crypto.Random import get_random_bytes\n",
    "\n",
    "\n",
    "def encryption(input_file, output_file, key, iv):\n",
    "    des_cipher = DES.new(key, DES.MODE_CBC, iv)\n",
    "    with open(input_file, 'rb') as input_stream, open(output_file, 'wb') as output_stream:\n",
    "        while True:\n",
    "            data = input_stream.read(8)  # Read 8 bytes at a time (DES block size)\n",
    "            if len(data) == 0:\n",
    "                break\n",
    "            elif len(data) % 8 != 0:\n",
    "                # Pad the data if it's not a multiple of 8 bytes\n",
    "                data += b' ' * (8 - len(data))\n",
    "            encrypted_data = des_cipher.encrypt(data)\n",
    "            output_stream.write(encrypted_data)\n",
    "\n",
    "def decryption(input_file, output_file, key, iv):\n",
    "    des_cipher = DES.new(key, DES.MODE_CBC, iv)\n",
    "    with open(input_file, 'rb') as input_stream, open(output_file, 'wb') as output_stream:\n",
    "        while True:\n",
    "            data = input_stream.read(8)  # Read 8 bytes at a time (DES block size)\n",
    "            if len(data) == 0:\n",
    "                break\n",
    "            decrypted_data = des_cipher.decrypt(data)\n",
    "            output_stream.write(decrypted_data)\n",
    "\n",
    "def main():\n",
    "    \n",
    "    encrypted_data = \"encrypteddata.txt\"\n",
    "    decrypted_data = \"decrypteddata.txt\"\n",
    "    initialization_vector = bytes([22, 33, 11, 44, 55, 99, 66, 77])\n",
    "\n",
    "    key = get_random_bytes(8)  # 8-byte DES key\n",
    "\n",
    "    try:\n",
    "        # Encrypt the file\n",
    "        encryption(text_file, encrypted_data, key, initialization_vector)\n",
    "        \n",
    "        # Decrypt the file\n",
    "        decryption(encrypted_data, decrypted_data, key, initialization_vector)\n",
    "\n",
    "        print(\"The encrypted and decrypted files have been created successfully.\")\n",
    "    except Exception as e:\n",
    "        print(\"An error occurred:\", str(e))\n",
    "\n",
    "if __name__ == \"__main__\":\n",
    "    main()\n"
   ]
  },
  {
   "cell_type": "code",
   "execution_count": 1,
   "id": "93da39d7",
   "metadata": {},
   "outputs": [
    {
     "name": "stdout",
     "output_type": "stream",
     "text": [
      "If you are reading this well done you did it :)\n"
     ]
    }
   ],
   "source": [
    "text_file = \"Data.txt\"\n",
    "with open(text_file, 'r') as file:\n",
    "    # Read the entire file contents into a string\n",
    "    file_contents = file.read()\n",
    "    # Print the contents\n",
    "    print(file_contents)"
   ]
  },
  {
   "cell_type": "code",
   "execution_count": 3,
   "id": "839e45ab",
   "metadata": {},
   "outputs": [
    {
     "name": "stdout",
     "output_type": "stream",
     "text": [
      "Õ\u0018±žœ¡£¨\u0003\u0015ÉZ\u000f\\X8 14T$ý–¼U\b%ò|½º\u001fúÔeˆº?\u001aÕhQwCâíEI\n"
     ]
    }
   ],
   "source": [
    "text_file = \"encrypteddata.txt\"\n",
    "with open(text_file, 'r') as file:\n",
    "    # Read the entire file contents into a string\n",
    "    file_contents = file.read()\n",
    "    # Print the contents\n",
    "    print(file_contents)"
   ]
  },
  {
   "cell_type": "code",
   "execution_count": 4,
   "id": "af5080c7",
   "metadata": {},
   "outputs": [
    {
     "name": "stdout",
     "output_type": "stream",
     "text": [
      "If you are reading this well done you did it :) \n"
     ]
    }
   ],
   "source": [
    "text_file = \"decrypteddata.txt\"\n",
    "with open(text_file, 'r') as file:\n",
    "    # Read the entire file contents into a string\n",
    "    file_contents = file.read()\n",
    "    # Print the contents\n",
    "    print(file_contents)"
   ]
  },
  {
   "cell_type": "code",
   "execution_count": null,
   "id": "83920285",
   "metadata": {},
   "outputs": [],
   "source": []
  }
 ],
 "metadata": {
  "kernelspec": {
   "display_name": "Python 3 (ipykernel)",
   "language": "python",
   "name": "python3"
  },
  "language_info": {
   "codemirror_mode": {
    "name": "ipython",
    "version": 3
   },
   "file_extension": ".py",
   "mimetype": "text/x-python",
   "name": "python",
   "nbconvert_exporter": "python",
   "pygments_lexer": "ipython3",
   "version": "3.11.5"
  }
 },
 "nbformat": 4,
 "nbformat_minor": 5
}
